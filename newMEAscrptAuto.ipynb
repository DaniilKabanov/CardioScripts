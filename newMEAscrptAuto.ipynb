#created by N.Repeev 
#edited by D. Kabanov

import numpy as np
import pandas as pd
import matplotlib.pyplot as plt
import scipy
import scipy.signal
import time

def diff2(enter):
    d1=enter[1:]-enter[:-1]
    d2=d1[1:]-d1[:-1]
    return d2*d2

def SRfinder(data, begining_of_data_example, length_of_data_example, truncator, between_peak_min_distance_in_s, percent, treshold, prom, lenght_of_plot):
    
    chanels=data.columns.values[1:]
    timecolumn=data.columns.values[0]
    
    list_of_results1=pd.DataFrame()
    list_of_results2=pd.DataFrame()
    list_of_results3=pd.DataFrame()
    
    do_i_need_to_ask=False
    
    for chanel_name in chanels:
        print("Chanel "+chanel_name+" is in progress.")
        x=data[timecolumn].values.astype("float")/1000000
        y=data[chanel_name].values.astype("float")/1000000
        
        #filtering
       
        #b, a = scipy.signal.butter(2, 0.01)
        b, a = scipy.signal.bessel(3, 0.005)
        filtered = scipy.signal.filtfilt(b, a, y)
        y=filtered
     
        
        #formatingvalues
        y=np.round(np.real(y)*1000)/1000
        
        h=max(y)-min(y)
        lenx=len(x)
        
        #findpeaks
        pse=treshold*-1
        tr=[pse, 500]
        pr=prom
        S_peak_index=scipy.signal.find_peaks(-y, distance=10000*between_peak_min_distance_in_s, height=tr, prominence=pr)[0]
        S_peak_time=[]
        S_peak_value=[]
        for i in S_peak_index:
            S_peak_time.append(x[i])
            S_peak_value.append(y[i])

        print("all_dots")
        R_peak_time=[]
        R_peak_value=[]
        par=1200
        Q_shift=900
        Q_region_width=850
        
        for i in S_peak_index:
            Rpeakindex=max(0,i-Q_shift-Q_region_width) + y[max(0,i-Q_shift-Q_region_width):min(i-Q_shift+Q_region_width, lenx)].argmax()
            R_peak_time.append(x[Rpeakindex])
            R_peak_value.append(y[Rpeakindex])
            
        
        Rarray=np.array(R_peak_value)
        Sarray=np.array(S_peak_value)
        Peak_coordinate_array=np.array(S_peak_time)
        
        ppt= True
        if ppt:
            number_of_plots=int(np.floor(lenx*3/lenght_of_plot))+1
        
            plotsx=np.array_split(x, number_of_plots)
            plotsy=np.array_split(y, number_of_plots)
        
            print("plots")
            last_dot_index=0
        
            for i in range(number_of_plots):
                fig = plt.figure( figsize=(14,8))
                plt.plot(plotsx[i],plotsy[i], 'k')
            
                number_of_dots=sum(np.logical_and(Peak_coordinate_array<=plotsx[i][-1], Peak_coordinate_array>plotsx[i][0]))
                tempxS=S_peak_time[last_dot_index:last_dot_index+number_of_dots]
                tempyS=S_peak_value[last_dot_index:last_dot_index+number_of_dots]
                tempxR=R_peak_time[last_dot_index:last_dot_index+number_of_dots]
                tempyR=R_peak_value[last_dot_index:last_dot_index+number_of_dots]
                last_dot_index+=number_of_dots
                plt.scatter(tempxS, tempyS)
                plt.scatter(tempxR, tempyR)
        
                plt.show()
        
        list_of_results1=pd.concat([list_of_results1,pd.Series(Rarray).rename(chanel_name+' R value')], axis=1)
        list_of_results1=pd.concat([list_of_results1,pd.Series(Sarray).rename(chanel_name+' S value')], axis=1)
        list_of_results2=pd.concat([list_of_results2,pd.Series(Rarray-Sarray).rename(chanel_name+' RS distance')], axis=1)
        list_of_results3=pd.concat([list_of_results3,pd.Series(Peak_coordinate_array).rename(chanel_name+' peak time')], axis=1)
        
    
    return list_of_results1, list_of_results2, list_of_results3

def maincode(filename, header_value=5, begining_of_data_example=0, length_of_data_example=30000, truncator=0.005,  between_peak_min_distance_in_s=0.25, percent=0, 
           treshold =-20, prom=15, lenght_of_plot=600000):
    
    data=pd.read_csv(filename, header=header_value)
    
    result = SRfinder(data, begining_of_data_example, length_of_data_example, truncator, between_peak_min_distance_in_s, percent, treshold, prom, lenght_of_plot)

    if not (result==None):
        writer = pd.ExcelWriter(filename.split('.')[0]+"_output"+'.xlsx', engine='xlsxwriter')
        
        
        result[0].to_excel(writer, sheet_name='SRvalues')
        result[1].to_excel(writer, sheet_name='SRdistances')
        result[2].to_excel(writer, sheet_name='Stimes')
        
        total_time = data.iat[-1,0]/1000000
        number_of_minutes=int(np.ceil(total_time/60))
        chanels=result[2].columns.values
        
        
        
        dicti={}
        for chanel_name in chanels:
            val=[]
            for i in range(number_of_minutes):
                temp=result[2][chanel_name].values
                number_of_beats=sum(np.logical_and(temp>=i*60, temp<(i+1)*60))
                val.append(number_of_beats)
            dicti[(chanel_name).split(' peak time')[0]+' beats per minute']=val
        newdf=pd.DataFrame(dicti)
        
        newdf.to_excel(writer,sheet_name='bpm')
        writer.save()
        
    return None


print(" \nstart")


maincode("name.csv", treshold=-10, prom=10)
