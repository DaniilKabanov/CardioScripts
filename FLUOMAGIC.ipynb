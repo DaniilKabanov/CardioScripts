import numpy as np
import pandas as pd
import matplotlib.pyplot as plt
import scipy
import scipy.signal
import time
import openpyxl
import os
Nums=[]
Nams=[]
Prs=[]
Prss=[]

def main(path, col, file, exit, pr):
    list_of_results1=pd.DataFrame()
    dataname=path
    data=pd.read_csv(dataname, header=3)
    chanels=data.columns.values[2:]
    timecolumn=data.columns.values[1]
    print(file)
    maxy =0
    
    for chanel_name in chanels:
     x=data[timecolumn].values.astype("float")
     y=data[chanel_name].values.astype("float")
     fig, ax = plt.subplots(figsize=(8, 6))
     ax.plot(x,y, c='blue')
     maxy= max(x)/1000
     plt.show()
     promss=[]
     prom=pr
     b, a = scipy.signal.bessel(2, 0.1)
     filtered = scipy.signal.filtfilt(b, a, y)
     y=filtered
     S_peak_index=scipy.signal.find_peaks(y, distance=5, height=0, prominence=prom)[0]
     peaks,props=scipy.signal.find_peaks(y, distance=5, height=0, prominence=prom)
     #print (props["prominences"])
     proms=props["prominences"]
     
     if len(proms)<1:
            proms=[0,0]
     
     for i in proms:
            promss.append(i)
     promss.insert(0, chanel_name)
     S_peak_time=[]
     S_peak_value=[]
     for i in S_peak_index:
         S_peak_time.append(x[i])
         S_peak_value.append(y[i])
     fig, ax = plt.subplots(figsize=(8, 6))
     ax.plot(x,y, c='blue')
     ax.scatter(S_peak_time, S_peak_value, c="red")
     plt.show()
     Nums.append(len(S_peak_value)/maxy)
     frega=len(S_peak_value)/maxy
     Nams.append(chanel_name)
     Prs.append(proms)
     Prss.append(promss)
     return frega

    
def run(direct):
    plsh=openpyxl.Workbook()
    plsh.create_sheet(title = 'freq', index = 0)
    plsh.create_sheet(title = 'ampl', index = 1)
    plsh.save('support.xlsx')
    directory = os.getcwd()+ '\\'+direct+'\\'
    files = os.listdir(directory) 
    exit=direct
    col=1
    rsb = openpyxl.load_workbook(filename='support.xlsx')
    sheet = rsb['freq']
    sheet2 = rsb['ampl']
    r=1
    pr=7
    for file in files:
        path= directory+file
        a= main(path, col, file, exit, pr)
        cellh = sheet.cell(row=r, column=1)
        cellh.value=file
        cellh = sheet.cell(row=r, column=2)
        cellh.value=a
        #cellh = sheet2.cell(row=r, column=1)
        #cellh.value=file
        r=r+1
        
        
    savename=exit+'_result.xlsx'
    rsb.save(savename)
    
run('control2')
